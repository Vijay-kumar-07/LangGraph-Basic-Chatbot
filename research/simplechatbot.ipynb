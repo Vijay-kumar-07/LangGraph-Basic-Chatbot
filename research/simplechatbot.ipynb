{
 "cells": [
  {
   "cell_type": "code",
   "execution_count": 2,
   "metadata": {},
   "outputs": [],
   "source": [
    "from typing import Annotated\n",
    "\n",
    "from typing_extensions import TypedDict\n",
    "\n",
    "from langgraph.graph import StateGraph, START, END\n",
    "from langgraph.graph.message import add_messages\n",
    "\n",
    "\n",
    "class State(TypedDict):\n",
    "    # Messages have the type \"list\". The `add_messages` function\n",
    "    # in the annotation defines how this state key should be updated\n",
    "    # (in this case, it appends messages to the list, rather than overwriting them)\n",
    "    messages: Annotated[list, add_messages]\n",
    "\n",
    "\n",
    "graph_builder = StateGraph(State)"
   ]
  },
  {
   "cell_type": "code",
   "execution_count": 5,
   "metadata": {},
   "outputs": [
    {
     "name": "stdout",
     "output_type": "stream",
     "text": [
      "Collecting langchain_anthropic\n",
      "  Downloading langchain_anthropic-0.1.23-py3-none-any.whl.metadata (2.2 kB)\n",
      "Collecting anthropic<1,>=0.30.0 (from langchain_anthropic)\n",
      "  Downloading anthropic-0.34.0-py3-none-any.whl.metadata (18 kB)\n",
      "Collecting defusedxml<0.8.0,>=0.7.1 (from langchain_anthropic)\n",
      "  Using cached defusedxml-0.7.1-py2.py3-none-any.whl.metadata (32 kB)\n",
      "Requirement already satisfied: langchain-core<0.3.0,>=0.2.26 in c:\\office\\langgraph\\langgraph-basic-chatbot\\venv\\lib\\site-packages (from langchain_anthropic) (0.2.32)\n",
      "Collecting anyio<5,>=3.5.0 (from anthropic<1,>=0.30.0->langchain_anthropic)\n",
      "  Using cached anyio-4.4.0-py3-none-any.whl.metadata (4.6 kB)\n",
      "Collecting distro<2,>=1.7.0 (from anthropic<1,>=0.30.0->langchain_anthropic)\n",
      "  Using cached distro-1.9.0-py3-none-any.whl.metadata (6.8 kB)\n",
      "Collecting httpx<1,>=0.23.0 (from anthropic<1,>=0.30.0->langchain_anthropic)\n",
      "  Using cached httpx-0.27.0-py3-none-any.whl.metadata (7.2 kB)\n",
      "Collecting jiter<1,>=0.4.0 (from anthropic<1,>=0.30.0->langchain_anthropic)\n",
      "  Downloading jiter-0.5.0-cp39-none-win_amd64.whl.metadata (3.7 kB)\n",
      "Requirement already satisfied: pydantic<3,>=1.9.0 in c:\\office\\langgraph\\langgraph-basic-chatbot\\venv\\lib\\site-packages (from anthropic<1,>=0.30.0->langchain_anthropic) (2.8.2)\n",
      "Collecting sniffio (from anthropic<1,>=0.30.0->langchain_anthropic)\n",
      "  Using cached sniffio-1.3.1-py3-none-any.whl.metadata (3.9 kB)\n",
      "Collecting tokenizers>=0.13.0 (from anthropic<1,>=0.30.0->langchain_anthropic)\n",
      "  Downloading tokenizers-0.20.0-cp39-none-win_amd64.whl.metadata (6.9 kB)\n",
      "Requirement already satisfied: typing-extensions<5,>=4.7 in c:\\office\\langgraph\\langgraph-basic-chatbot\\venv\\lib\\site-packages (from anthropic<1,>=0.30.0->langchain_anthropic) (4.12.2)\n",
      "Requirement already satisfied: PyYAML>=5.3 in c:\\office\\langgraph\\langgraph-basic-chatbot\\venv\\lib\\site-packages (from langchain-core<0.3.0,>=0.2.26->langchain_anthropic) (6.0.2)\n",
      "Requirement already satisfied: jsonpatch<2.0,>=1.33 in c:\\office\\langgraph\\langgraph-basic-chatbot\\venv\\lib\\site-packages (from langchain-core<0.3.0,>=0.2.26->langchain_anthropic) (1.33)\n",
      "Requirement already satisfied: langsmith<0.2.0,>=0.1.75 in c:\\office\\langgraph\\langgraph-basic-chatbot\\venv\\lib\\site-packages (from langchain-core<0.3.0,>=0.2.26->langchain_anthropic) (0.1.99)\n",
      "Requirement already satisfied: packaging<25,>=23.2 in c:\\office\\langgraph\\langgraph-basic-chatbot\\venv\\lib\\site-packages (from langchain-core<0.3.0,>=0.2.26->langchain_anthropic) (24.1)\n",
      "Requirement already satisfied: tenacity!=8.4.0,<9.0.0,>=8.1.0 in c:\\office\\langgraph\\langgraph-basic-chatbot\\venv\\lib\\site-packages (from langchain-core<0.3.0,>=0.2.26->langchain_anthropic) (8.5.0)\n",
      "Requirement already satisfied: idna>=2.8 in c:\\office\\langgraph\\langgraph-basic-chatbot\\venv\\lib\\site-packages (from anyio<5,>=3.5.0->anthropic<1,>=0.30.0->langchain_anthropic) (3.7)\n",
      "Requirement already satisfied: exceptiongroup>=1.0.2 in c:\\office\\langgraph\\langgraph-basic-chatbot\\venv\\lib\\site-packages (from anyio<5,>=3.5.0->anthropic<1,>=0.30.0->langchain_anthropic) (1.2.2)\n",
      "Requirement already satisfied: certifi in c:\\office\\langgraph\\langgraph-basic-chatbot\\venv\\lib\\site-packages (from httpx<1,>=0.23.0->anthropic<1,>=0.30.0->langchain_anthropic) (2024.7.4)\n",
      "Collecting httpcore==1.* (from httpx<1,>=0.23.0->anthropic<1,>=0.30.0->langchain_anthropic)\n",
      "  Using cached httpcore-1.0.5-py3-none-any.whl.metadata (20 kB)\n",
      "Collecting h11<0.15,>=0.13 (from httpcore==1.*->httpx<1,>=0.23.0->anthropic<1,>=0.30.0->langchain_anthropic)\n",
      "  Using cached h11-0.14.0-py3-none-any.whl.metadata (8.2 kB)\n",
      "Requirement already satisfied: jsonpointer>=1.9 in c:\\office\\langgraph\\langgraph-basic-chatbot\\venv\\lib\\site-packages (from jsonpatch<2.0,>=1.33->langchain-core<0.3.0,>=0.2.26->langchain_anthropic) (3.0.0)\n",
      "Requirement already satisfied: orjson<4.0.0,>=3.9.14 in c:\\office\\langgraph\\langgraph-basic-chatbot\\venv\\lib\\site-packages (from langsmith<0.2.0,>=0.1.75->langchain-core<0.3.0,>=0.2.26->langchain_anthropic) (3.10.7)\n",
      "Requirement already satisfied: requests<3,>=2 in c:\\office\\langgraph\\langgraph-basic-chatbot\\venv\\lib\\site-packages (from langsmith<0.2.0,>=0.1.75->langchain-core<0.3.0,>=0.2.26->langchain_anthropic) (2.32.3)\n",
      "Requirement already satisfied: annotated-types>=0.4.0 in c:\\office\\langgraph\\langgraph-basic-chatbot\\venv\\lib\\site-packages (from pydantic<3,>=1.9.0->anthropic<1,>=0.30.0->langchain_anthropic) (0.7.0)\n",
      "Requirement already satisfied: pydantic-core==2.20.1 in c:\\office\\langgraph\\langgraph-basic-chatbot\\venv\\lib\\site-packages (from pydantic<3,>=1.9.0->anthropic<1,>=0.30.0->langchain_anthropic) (2.20.1)\n",
      "Collecting huggingface-hub<1.0,>=0.16.4 (from tokenizers>=0.13.0->anthropic<1,>=0.30.0->langchain_anthropic)\n",
      "  Using cached huggingface_hub-0.24.5-py3-none-any.whl.metadata (13 kB)\n",
      "Collecting filelock (from huggingface-hub<1.0,>=0.16.4->tokenizers>=0.13.0->anthropic<1,>=0.30.0->langchain_anthropic)\n",
      "  Using cached filelock-3.15.4-py3-none-any.whl.metadata (2.9 kB)\n",
      "Collecting fsspec>=2023.5.0 (from huggingface-hub<1.0,>=0.16.4->tokenizers>=0.13.0->anthropic<1,>=0.30.0->langchain_anthropic)\n",
      "  Using cached fsspec-2024.6.1-py3-none-any.whl.metadata (11 kB)\n",
      "Collecting tqdm>=4.42.1 (from huggingface-hub<1.0,>=0.16.4->tokenizers>=0.13.0->anthropic<1,>=0.30.0->langchain_anthropic)\n",
      "  Using cached tqdm-4.66.5-py3-none-any.whl.metadata (57 kB)\n",
      "Requirement already satisfied: charset-normalizer<4,>=2 in c:\\office\\langgraph\\langgraph-basic-chatbot\\venv\\lib\\site-packages (from requests<3,>=2->langsmith<0.2.0,>=0.1.75->langchain-core<0.3.0,>=0.2.26->langchain_anthropic) (3.3.2)\n",
      "Requirement already satisfied: urllib3<3,>=1.21.1 in c:\\office\\langgraph\\langgraph-basic-chatbot\\venv\\lib\\site-packages (from requests<3,>=2->langsmith<0.2.0,>=0.1.75->langchain-core<0.3.0,>=0.2.26->langchain_anthropic) (2.2.2)\n",
      "Requirement already satisfied: colorama in c:\\office\\langgraph\\langgraph-basic-chatbot\\venv\\lib\\site-packages (from tqdm>=4.42.1->huggingface-hub<1.0,>=0.16.4->tokenizers>=0.13.0->anthropic<1,>=0.30.0->langchain_anthropic) (0.4.6)\n",
      "Downloading langchain_anthropic-0.1.23-py3-none-any.whl (21 kB)\n",
      "Downloading anthropic-0.34.0-py3-none-any.whl (891 kB)\n",
      "   ---------------------------------------- 0.0/891.5 kB ? eta -:--:--\n",
      "   - ------------------------------------- 41.0/891.5 kB 991.0 kB/s eta 0:00:01\n",
      "   ----- ---------------------------------- 112.6/891.5 kB 1.3 MB/s eta 0:00:01\n",
      "   ------- -------------------------------- 163.8/891.5 kB 1.4 MB/s eta 0:00:01\n",
      "   ------- -------------------------------- 163.8/891.5 kB 1.4 MB/s eta 0:00:01\n",
      "   ----------- ---------------------------- 245.8/891.5 kB 1.1 MB/s eta 0:00:01\n",
      "   ----------- ---------------------------- 245.8/891.5 kB 1.1 MB/s eta 0:00:01\n",
      "   ------------ ------------------------- 286.7/891.5 kB 886.2 kB/s eta 0:00:01\n",
      "   --------------- ---------------------- 368.6/891.5 kB 998.3 kB/s eta 0:00:01\n",
      "   --------------------- ------------------ 471.0/891.5 kB 1.1 MB/s eta 0:00:01\n",
      "   ------------------------ --------------- 553.0/891.5 kB 1.2 MB/s eta 0:00:01\n",
      "   ------------------------- -------------- 573.4/891.5 kB 1.2 MB/s eta 0:00:01\n",
      "   -------------------------------- ------- 716.8/891.5 kB 1.3 MB/s eta 0:00:01\n",
      "   ------------------------------------- -- 829.4/891.5 kB 1.4 MB/s eta 0:00:01\n",
      "   ---------------------------------------  890.9/891.5 kB 1.4 MB/s eta 0:00:01\n",
      "   ---------------------------------------- 891.5/891.5 kB 1.3 MB/s eta 0:00:00\n",
      "Using cached defusedxml-0.7.1-py2.py3-none-any.whl (25 kB)\n",
      "Using cached anyio-4.4.0-py3-none-any.whl (86 kB)\n",
      "Using cached distro-1.9.0-py3-none-any.whl (20 kB)\n",
      "Using cached httpx-0.27.0-py3-none-any.whl (75 kB)\n",
      "Using cached httpcore-1.0.5-py3-none-any.whl (77 kB)\n",
      "Downloading jiter-0.5.0-cp39-none-win_amd64.whl (191 kB)\n",
      "   ---------------------------------------- 0.0/191.8 kB ? eta -:--:--\n",
      "   ------------------------- -------------- 122.9/191.8 kB 7.0 MB/s eta 0:00:01\n",
      "   ------------------------- -------------- 122.9/191.8 kB 7.0 MB/s eta 0:00:01\n",
      "   ------------------------- -------------- 122.9/191.8 kB 7.0 MB/s eta 0:00:01\n",
      "   ------------------------- -------------- 122.9/191.8 kB 7.0 MB/s eta 0:00:01\n",
      "   -------------------------------------- 191.8/191.8 kB 776.0 kB/s eta 0:00:00\n",
      "Using cached sniffio-1.3.1-py3-none-any.whl (10 kB)\n",
      "Downloading tokenizers-0.20.0-cp39-none-win_amd64.whl (2.3 MB)\n",
      "   ---------------------------------------- 0.0/2.3 MB ? eta -:--:--\n",
      "   ---- ----------------------------------- 0.3/2.3 MB 15.4 MB/s eta 0:00:01\n",
      "   ---- ----------------------------------- 0.3/2.3 MB 15.4 MB/s eta 0:00:01\n",
      "   ---- ----------------------------------- 0.3/2.3 MB 15.4 MB/s eta 0:00:01\n",
      "   ------- -------------------------------- 0.4/2.3 MB 2.4 MB/s eta 0:00:01\n",
      "   -------- ------------------------------- 0.5/2.3 MB 2.5 MB/s eta 0:00:01\n",
      "   -------- ------------------------------- 0.5/2.3 MB 2.5 MB/s eta 0:00:01\n",
      "   -------- ------------------------------- 0.5/2.3 MB 2.5 MB/s eta 0:00:01\n",
      "   ---------- ----------------------------- 0.6/2.3 MB 1.8 MB/s eta 0:00:01\n",
      "   ------------- -------------------------- 0.8/2.3 MB 1.9 MB/s eta 0:00:01\n",
      "   ------------- -------------------------- 0.8/2.3 MB 1.9 MB/s eta 0:00:01\n",
      "   ----------------- ---------------------- 1.0/2.3 MB 1.9 MB/s eta 0:00:01\n",
      "   ----------------- ---------------------- 1.0/2.3 MB 1.9 MB/s eta 0:00:01\n",
      "   ----------------- ---------------------- 1.0/2.3 MB 1.9 MB/s eta 0:00:01\n",
      "   ----------------- ---------------------- 1.0/2.3 MB 1.9 MB/s eta 0:00:01\n",
      "   ----------------------- ---------------- 1.4/2.3 MB 1.9 MB/s eta 0:00:01\n",
      "   ----------------------- ---------------- 1.4/2.3 MB 1.9 MB/s eta 0:00:01\n",
      "   ----------------------- ---------------- 1.4/2.3 MB 1.9 MB/s eta 0:00:01\n",
      "   ----------------------- ---------------- 1.4/2.3 MB 1.6 MB/s eta 0:00:01\n",
      "   ----------------------------- ---------- 1.7/2.3 MB 1.9 MB/s eta 0:00:01\n",
      "   ----------------------------- ---------- 1.7/2.3 MB 1.9 MB/s eta 0:00:01\n",
      "   ----------------------------- ---------- 1.7/2.3 MB 1.9 MB/s eta 0:00:01\n",
      "   ------------------------------ --------- 1.8/2.3 MB 1.7 MB/s eta 0:00:01\n",
      "   ----------------------------------- ---- 2.1/2.3 MB 1.9 MB/s eta 0:00:01\n",
      "   ----------------------------------- ---- 2.1/2.3 MB 1.9 MB/s eta 0:00:01\n",
      "   ----------------------------------- ---- 2.1/2.3 MB 1.9 MB/s eta 0:00:01\n",
      "   ---------------------------------------  2.3/2.3 MB 1.8 MB/s eta 0:00:01\n",
      "   ---------------------------------------  2.3/2.3 MB 1.9 MB/s eta 0:00:01\n",
      "   ---------------------------------------- 2.3/2.3 MB 1.8 MB/s eta 0:00:00\n",
      "Using cached huggingface_hub-0.24.5-py3-none-any.whl (417 kB)\n",
      "Using cached fsspec-2024.6.1-py3-none-any.whl (177 kB)\n",
      "Using cached h11-0.14.0-py3-none-any.whl (58 kB)\n",
      "Using cached tqdm-4.66.5-py3-none-any.whl (78 kB)\n",
      "Using cached filelock-3.15.4-py3-none-any.whl (16 kB)\n",
      "Installing collected packages: tqdm, sniffio, jiter, h11, fsspec, filelock, distro, defusedxml, huggingface-hub, httpcore, anyio, tokenizers, httpx, anthropic, langchain_anthropic\n",
      "Successfully installed anthropic-0.34.0 anyio-4.4.0 defusedxml-0.7.1 distro-1.9.0 filelock-3.15.4 fsspec-2024.6.1 h11-0.14.0 httpcore-1.0.5 httpx-0.27.0 huggingface-hub-0.24.5 jiter-0.5.0 langchain_anthropic-0.1.23 sniffio-1.3.1 tokenizers-0.20.0 tqdm-4.66.5\n",
      "Note: you may need to restart the kernel to use updated packages.\n"
     ]
    },
    {
     "name": "stderr",
     "output_type": "stream",
     "text": [
      "\n",
      "[notice] A new release of pip is available: 24.1.2 -> 24.2\n",
      "[notice] To update, run: python.exe -m pip install --upgrade pip\n"
     ]
    }
   ],
   "source": [
    "%pip install langchain_anthropic"
   ]
  },
  {
   "cell_type": "code",
   "execution_count": 6,
   "metadata": {},
   "outputs": [],
   "source": [
    "from langchain_anthropic import ChatAnthropic\n",
    "\n",
    "llm = ChatAnthropic(model=\"claude-3-haiku-20240307\")\n",
    "\n",
    "\n",
    "def chatbot(state: State):\n",
    "    return {\"messages\": [llm.invoke(state[\"messages\"])]}\n",
    "\n",
    "\n",
    "# The first argument is the unique node name\n",
    "# The second argument is the function or object that will be called whenever\n",
    "# the node is used.\n",
    "graph_builder.add_node(\"chatbot\", chatbot)"
   ]
  },
  {
   "cell_type": "code",
   "execution_count": 7,
   "metadata": {},
   "outputs": [],
   "source": [
    "graph_builder.add_edge(START, \"chatbot\")"
   ]
  },
  {
   "cell_type": "code",
   "execution_count": 8,
   "metadata": {},
   "outputs": [],
   "source": [
    "graph_builder.add_edge(\"chatbot\", END)"
   ]
  },
  {
   "cell_type": "code",
   "execution_count": 9,
   "metadata": {},
   "outputs": [],
   "source": [
    "graph = graph_builder.compile()"
   ]
  },
  {
   "cell_type": "code",
   "execution_count": 10,
   "metadata": {},
   "outputs": [
    {
     "data": {
      "image/jpeg": "[encoded data removed]",
      "text/plain": [
       "<IPython.core.display.Image object>"
      ]
     },
     "metadata": {},
     "output_type": "display_data"
    }
   ],
   "source": [
    "from IPython.display import Image, display\n",
    "\n",
    "try:\n",
    "    display(Image(graph.get_graph().draw_mermaid_png()))\n",
    "except Exception:\n",
    "    # This requires some extra dependencies and is optional\n",
    "    pass"
   ]
  },
  {
   "cell_type": "code",
   "execution_count": null,
   "metadata": {},
   "outputs": [],
   "source": []
  }
 ],
 "metadata": {
  "kernelspec": {
   "display_name": "venv",
   "language": "python",
   "name": "python3"
  },
  "language_info": {
   "codemirror_mode": {
    "name": "ipython",
    "version": 3
   },
   "file_extension": ".py",
   "mimetype": "text/x-python",
   "name": "python",
   "nbconvert_exporter": "python",
   "pygments_lexer": "ipython3",
   "version": "3.9.7"
  }
 },
 "nbformat": 4,
 "nbformat_minor": 2
}
